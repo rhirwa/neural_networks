{
  "nbformat": 4,
  "nbformat_minor": 0,
  "metadata": {
    "colab": {
      "provenance": [],
      "include_colab_link": true
    },
    "kernelspec": {
      "name": "python3",
      "display_name": "Python 3"
    }
  },
  "cells": [
    {
      "cell_type": "markdown",
      "metadata": {
        "id": "view-in-github",
        "colab_type": "text"
      },
      "source": [
        "<a href=\"https://colab.research.google.com/github/rhirwa/artificial_neural_networks/blob/main/artificial_neural_network.ipynb\" target=\"_parent\"><img src=\"https://colab.research.google.com/assets/colab-badge.svg\" alt=\"Open In Colab\"/></a>"
      ]
    },
    {
      "cell_type": "markdown",
      "metadata": {
        "id": "lP6JLo1tGNBg"
      },
      "source": [
        "# Artificial Neural Network"
      ]
    },
    {
      "cell_type": "markdown",
      "metadata": {
        "id": "gWZyYmS_UE_L"
      },
      "source": [
        "### Importing the libraries"
      ]
    },
    {
      "cell_type": "code",
      "source": [
        "import pandas as pd\n",
        "import numpy as np \n",
        "import tensorflow as tf"
      ],
      "metadata": {
        "id": "PA0JpnUwB_db"
      },
      "execution_count": 1,
      "outputs": []
    },
    {
      "cell_type": "markdown",
      "metadata": {
        "id": "1E0Q3aoKUCRX"
      },
      "source": [
        "## Part 1 - Data Preprocessing"
      ]
    },
    {
      "cell_type": "markdown",
      "metadata": {
        "id": "cKWAkFVGUU0Z"
      },
      "source": [
        "### Importing the dataset"
      ]
    },
    {
      "cell_type": "code",
      "source": [
        "dataset = pd.read_csv('Churn_Modelling.csv')\n",
        "X = dataset.iloc[:, 3:-1].values\n",
        "y = dataset.iloc[:, -1].values"
      ],
      "metadata": {
        "id": "afU3QVerCGHV"
      },
      "execution_count": 3,
      "outputs": []
    },
    {
      "cell_type": "markdown",
      "metadata": {
        "id": "N6bQ0UgSU-NJ"
      },
      "source": [
        "### Encoding categorical data"
      ]
    },
    {
      "cell_type": "markdown",
      "metadata": {
        "id": "le5MJreAbW52"
      },
      "source": [
        "Label Encoding the \"Gender\" column"
      ]
    },
    {
      "cell_type": "code",
      "source": [
        "from sklearn.preprocessing import LabelEncoder\n",
        "le = LabelEncoder()\n",
        "X[:, 2] = le.fit_transform(X[:, 2])"
      ],
      "metadata": {
        "id": "0gw90qj6EdJ1"
      },
      "execution_count": 4,
      "outputs": []
    },
    {
      "cell_type": "markdown",
      "metadata": {
        "id": "CUxGZezpbMcb"
      },
      "source": [
        "One Hot Encoding the \"Geography\" column"
      ]
    },
    {
      "cell_type": "code",
      "source": [
        "from sklearn.compose import ColumnTransformer\n",
        "from sklearn.preprocessing import OneHotEncoder\n",
        "ct = ColumnTransformer(transformers =[('encoder', OneHotEncoder(), [1])], remainder = 'passthrough')\n",
        "X = np.array(ct.fit_transform(X))"
      ],
      "metadata": {
        "id": "ybipiQPGE_Uf"
      },
      "execution_count": 5,
      "outputs": []
    },
    {
      "cell_type": "markdown",
      "metadata": {
        "id": "vHol938cW8zd"
      },
      "source": [
        "### Splitting the dataset into the Training set and Test set"
      ]
    },
    {
      "cell_type": "code",
      "source": [
        "from sklearn.model_selection import train_test_split\n",
        "X_train, X_test, y_train, y_test = train_test_split(X, y, train_size = 0.2, random_state = 0)"
      ],
      "metadata": {
        "id": "DdYYwh1YF4dk"
      },
      "execution_count": 6,
      "outputs": []
    },
    {
      "cell_type": "markdown",
      "metadata": {
        "id": "RE_FcHyfV3TQ"
      },
      "source": [
        "### Feature Scaling"
      ]
    },
    {
      "cell_type": "code",
      "source": [
        "from sklearn.preprocessing import StandardScaler\n",
        "sc = StandardScaler()\n",
        "X_train = sc.fit_transform(X_train)\n",
        "X_test = sc.transform(X_test)"
      ],
      "metadata": {
        "id": "1h95O1meGJNH"
      },
      "execution_count": 7,
      "outputs": []
    },
    {
      "cell_type": "markdown",
      "metadata": {
        "id": "-zfEzkRVXIwF"
      },
      "source": [
        "## Part 2 - Building the ANN"
      ]
    },
    {
      "cell_type": "markdown",
      "metadata": {
        "id": "KvdeScabXtlB"
      },
      "source": [
        "### Initializing the ANN"
      ]
    },
    {
      "cell_type": "code",
      "source": [
        "ann = tf.keras.models.Sequential()"
      ],
      "metadata": {
        "id": "Hp658GC0Gj4j"
      },
      "execution_count": 8,
      "outputs": []
    },
    {
      "cell_type": "markdown",
      "metadata": {
        "id": "rP6urV6SX7kS"
      },
      "source": [
        "### Adding the input layer and the first hidden layer"
      ]
    },
    {
      "cell_type": "code",
      "source": [
        "ann.add(tf.keras.layers.Dense(units = 6, activation = 'relu'))"
      ],
      "metadata": {
        "id": "j0PUdE41Gl_u"
      },
      "execution_count": 10,
      "outputs": []
    },
    {
      "cell_type": "markdown",
      "metadata": {
        "id": "BELWAc_8YJze"
      },
      "source": [
        "### Adding the second hidden layer"
      ]
    },
    {
      "cell_type": "code",
      "source": [
        "ann.add(tf.keras.layers.Dense(units = 6, activation = 'relu'))"
      ],
      "metadata": {
        "id": "nyJWvVeUGmrX"
      },
      "execution_count": 11,
      "outputs": []
    },
    {
      "cell_type": "markdown",
      "metadata": {
        "id": "OyNEe6RXYcU4"
      },
      "source": [
        "### Adding the output layer"
      ]
    },
    {
      "cell_type": "code",
      "source": [
        "ann.add(tf.keras.layers.Dense(units = 1, activation = 'sigmoid'))"
      ],
      "metadata": {
        "id": "C0WuC0w1Gn9g"
      },
      "execution_count": 12,
      "outputs": []
    },
    {
      "cell_type": "markdown",
      "metadata": {
        "id": "JT4u2S1_Y4WG"
      },
      "source": [
        "## Part 3 - Training the ANN"
      ]
    },
    {
      "cell_type": "markdown",
      "metadata": {
        "id": "8GWlJChhY_ZI"
      },
      "source": [
        "### Compiling the ANN"
      ]
    },
    {
      "cell_type": "code",
      "source": [
        "ann.compile(optimizer = 'adam', loss = 'binary_crossentropy', metrics = ['accuracy'])"
      ],
      "metadata": {
        "id": "wlONJOUrL2Zd"
      },
      "execution_count": 14,
      "outputs": []
    },
    {
      "cell_type": "markdown",
      "metadata": {
        "id": "0QR_G5u7ZLSM"
      },
      "source": [
        "### Training the ANN on the Training set"
      ]
    },
    {
      "cell_type": "code",
      "source": [
        "ann.fit(X_train, y_train, batch_size = 32, epochs = 100)"
      ],
      "metadata": {
        "colab": {
          "base_uri": "https://localhost:8080/"
        },
        "id": "bcyzNppaL3FM",
        "outputId": "3f1357f8-e9db-4ec3-b39c-69209abdbc57"
      },
      "execution_count": 15,
      "outputs": [
        {
          "output_type": "stream",
          "name": "stdout",
          "text": [
            "Epoch 1/100\n",
            "63/63 [==============================] - 1s 2ms/step - loss: 0.6908 - accuracy: 0.5390\n",
            "Epoch 2/100\n",
            "63/63 [==============================] - 0s 2ms/step - loss: 0.6238 - accuracy: 0.7810\n",
            "Epoch 3/100\n",
            "63/63 [==============================] - 0s 2ms/step - loss: 0.5712 - accuracy: 0.7980\n",
            "Epoch 4/100\n",
            "63/63 [==============================] - 0s 2ms/step - loss: 0.5295 - accuracy: 0.7995\n",
            "Epoch 5/100\n",
            "63/63 [==============================] - 0s 2ms/step - loss: 0.5034 - accuracy: 0.7995\n",
            "Epoch 6/100\n",
            "63/63 [==============================] - 0s 2ms/step - loss: 0.4868 - accuracy: 0.7995\n",
            "Epoch 7/100\n",
            "63/63 [==============================] - 0s 2ms/step - loss: 0.4747 - accuracy: 0.7995\n",
            "Epoch 8/100\n",
            "63/63 [==============================] - 0s 2ms/step - loss: 0.4654 - accuracy: 0.7995\n",
            "Epoch 9/100\n",
            "63/63 [==============================] - 0s 2ms/step - loss: 0.4580 - accuracy: 0.7995\n",
            "Epoch 10/100\n",
            "63/63 [==============================] - 0s 2ms/step - loss: 0.4520 - accuracy: 0.7995\n",
            "Epoch 11/100\n",
            "63/63 [==============================] - 0s 2ms/step - loss: 0.4472 - accuracy: 0.7995\n",
            "Epoch 12/100\n",
            "63/63 [==============================] - 0s 2ms/step - loss: 0.4433 - accuracy: 0.7995\n",
            "Epoch 13/100\n",
            "63/63 [==============================] - 0s 2ms/step - loss: 0.4400 - accuracy: 0.7995\n",
            "Epoch 14/100\n",
            "63/63 [==============================] - 0s 2ms/step - loss: 0.4373 - accuracy: 0.7995\n",
            "Epoch 15/100\n",
            "63/63 [==============================] - 0s 2ms/step - loss: 0.4349 - accuracy: 0.7995\n",
            "Epoch 16/100\n",
            "63/63 [==============================] - 0s 2ms/step - loss: 0.4329 - accuracy: 0.7995\n",
            "Epoch 17/100\n",
            "63/63 [==============================] - 0s 2ms/step - loss: 0.4311 - accuracy: 0.7995\n",
            "Epoch 18/100\n",
            "63/63 [==============================] - 0s 2ms/step - loss: 0.4296 - accuracy: 0.7995\n",
            "Epoch 19/100\n",
            "63/63 [==============================] - 0s 2ms/step - loss: 0.4281 - accuracy: 0.8005\n",
            "Epoch 20/100\n",
            "63/63 [==============================] - 0s 2ms/step - loss: 0.4268 - accuracy: 0.8005\n",
            "Epoch 21/100\n",
            "63/63 [==============================] - 0s 2ms/step - loss: 0.4258 - accuracy: 0.8015\n",
            "Epoch 22/100\n",
            "63/63 [==============================] - 0s 2ms/step - loss: 0.4242 - accuracy: 0.8050\n",
            "Epoch 23/100\n",
            "63/63 [==============================] - 0s 2ms/step - loss: 0.4231 - accuracy: 0.8080\n",
            "Epoch 24/100\n",
            "63/63 [==============================] - 0s 2ms/step - loss: 0.4221 - accuracy: 0.8120\n",
            "Epoch 25/100\n",
            "63/63 [==============================] - 0s 2ms/step - loss: 0.4209 - accuracy: 0.8145\n",
            "Epoch 26/100\n",
            "63/63 [==============================] - 0s 2ms/step - loss: 0.4201 - accuracy: 0.8170\n",
            "Epoch 27/100\n",
            "63/63 [==============================] - 0s 2ms/step - loss: 0.4194 - accuracy: 0.8165\n",
            "Epoch 28/100\n",
            "63/63 [==============================] - 0s 2ms/step - loss: 0.4182 - accuracy: 0.8185\n",
            "Epoch 29/100\n",
            "63/63 [==============================] - 0s 2ms/step - loss: 0.4171 - accuracy: 0.8175\n",
            "Epoch 30/100\n",
            "63/63 [==============================] - 0s 2ms/step - loss: 0.4164 - accuracy: 0.8190\n",
            "Epoch 31/100\n",
            "63/63 [==============================] - 0s 2ms/step - loss: 0.4155 - accuracy: 0.8200\n",
            "Epoch 32/100\n",
            "63/63 [==============================] - 0s 2ms/step - loss: 0.4147 - accuracy: 0.8225\n",
            "Epoch 33/100\n",
            "63/63 [==============================] - 0s 2ms/step - loss: 0.4136 - accuracy: 0.8240\n",
            "Epoch 34/100\n",
            "63/63 [==============================] - 0s 2ms/step - loss: 0.4126 - accuracy: 0.8260\n",
            "Epoch 35/100\n",
            "63/63 [==============================] - 0s 2ms/step - loss: 0.4111 - accuracy: 0.8290\n",
            "Epoch 36/100\n",
            "63/63 [==============================] - 0s 2ms/step - loss: 0.4099 - accuracy: 0.8325\n",
            "Epoch 37/100\n",
            "63/63 [==============================] - 0s 2ms/step - loss: 0.4085 - accuracy: 0.8305\n",
            "Epoch 38/100\n",
            "63/63 [==============================] - 0s 2ms/step - loss: 0.4077 - accuracy: 0.8300\n",
            "Epoch 39/100\n",
            "63/63 [==============================] - 0s 2ms/step - loss: 0.4064 - accuracy: 0.8310\n",
            "Epoch 40/100\n",
            "63/63 [==============================] - 0s 2ms/step - loss: 0.4053 - accuracy: 0.8325\n",
            "Epoch 41/100\n",
            "63/63 [==============================] - 0s 2ms/step - loss: 0.4039 - accuracy: 0.8320\n",
            "Epoch 42/100\n",
            "63/63 [==============================] - 0s 2ms/step - loss: 0.4027 - accuracy: 0.8330\n",
            "Epoch 43/100\n",
            "63/63 [==============================] - 0s 2ms/step - loss: 0.4018 - accuracy: 0.8320\n",
            "Epoch 44/100\n",
            "63/63 [==============================] - 0s 2ms/step - loss: 0.4006 - accuracy: 0.8335\n",
            "Epoch 45/100\n",
            "63/63 [==============================] - 0s 2ms/step - loss: 0.3995 - accuracy: 0.8340\n",
            "Epoch 46/100\n",
            "63/63 [==============================] - 0s 2ms/step - loss: 0.3981 - accuracy: 0.8340\n",
            "Epoch 47/100\n",
            "63/63 [==============================] - 0s 2ms/step - loss: 0.3975 - accuracy: 0.8345\n",
            "Epoch 48/100\n",
            "63/63 [==============================] - 0s 2ms/step - loss: 0.3961 - accuracy: 0.8360\n",
            "Epoch 49/100\n",
            "63/63 [==============================] - 0s 2ms/step - loss: 0.3955 - accuracy: 0.8350\n",
            "Epoch 50/100\n",
            "63/63 [==============================] - 0s 2ms/step - loss: 0.3944 - accuracy: 0.8360\n",
            "Epoch 51/100\n",
            "63/63 [==============================] - 0s 2ms/step - loss: 0.3936 - accuracy: 0.8355\n",
            "Epoch 52/100\n",
            "63/63 [==============================] - 0s 2ms/step - loss: 0.3929 - accuracy: 0.8355\n",
            "Epoch 53/100\n",
            "63/63 [==============================] - 0s 2ms/step - loss: 0.3916 - accuracy: 0.8365\n",
            "Epoch 54/100\n",
            "63/63 [==============================] - 0s 2ms/step - loss: 0.3907 - accuracy: 0.8380\n",
            "Epoch 55/100\n",
            "63/63 [==============================] - 0s 2ms/step - loss: 0.3897 - accuracy: 0.8385\n",
            "Epoch 56/100\n",
            "63/63 [==============================] - 0s 2ms/step - loss: 0.3894 - accuracy: 0.8390\n",
            "Epoch 57/100\n",
            "63/63 [==============================] - 0s 2ms/step - loss: 0.3883 - accuracy: 0.8390\n",
            "Epoch 58/100\n",
            "63/63 [==============================] - 0s 2ms/step - loss: 0.3874 - accuracy: 0.8380\n",
            "Epoch 59/100\n",
            "63/63 [==============================] - 0s 2ms/step - loss: 0.3864 - accuracy: 0.8370\n",
            "Epoch 60/100\n",
            "63/63 [==============================] - 0s 2ms/step - loss: 0.3859 - accuracy: 0.8385\n",
            "Epoch 61/100\n",
            "63/63 [==============================] - 0s 2ms/step - loss: 0.3851 - accuracy: 0.8400\n",
            "Epoch 62/100\n",
            "63/63 [==============================] - 0s 2ms/step - loss: 0.3841 - accuracy: 0.8385\n",
            "Epoch 63/100\n",
            "63/63 [==============================] - 0s 2ms/step - loss: 0.3834 - accuracy: 0.8395\n",
            "Epoch 64/100\n",
            "63/63 [==============================] - 0s 2ms/step - loss: 0.3829 - accuracy: 0.8410\n",
            "Epoch 65/100\n",
            "63/63 [==============================] - 0s 2ms/step - loss: 0.3818 - accuracy: 0.8420\n",
            "Epoch 66/100\n",
            "63/63 [==============================] - 0s 2ms/step - loss: 0.3810 - accuracy: 0.8395\n",
            "Epoch 67/100\n",
            "63/63 [==============================] - 0s 2ms/step - loss: 0.3798 - accuracy: 0.8405\n",
            "Epoch 68/100\n",
            "63/63 [==============================] - 0s 2ms/step - loss: 0.3791 - accuracy: 0.8420\n",
            "Epoch 69/100\n",
            "63/63 [==============================] - 0s 2ms/step - loss: 0.3782 - accuracy: 0.8405\n",
            "Epoch 70/100\n",
            "63/63 [==============================] - 0s 2ms/step - loss: 0.3776 - accuracy: 0.8380\n",
            "Epoch 71/100\n",
            "63/63 [==============================] - 0s 2ms/step - loss: 0.3763 - accuracy: 0.8410\n",
            "Epoch 72/100\n",
            "63/63 [==============================] - 0s 2ms/step - loss: 0.3756 - accuracy: 0.8410\n",
            "Epoch 73/100\n",
            "63/63 [==============================] - 0s 2ms/step - loss: 0.3751 - accuracy: 0.8425\n",
            "Epoch 74/100\n",
            "63/63 [==============================] - 0s 2ms/step - loss: 0.3744 - accuracy: 0.8415\n",
            "Epoch 75/100\n",
            "63/63 [==============================] - 0s 2ms/step - loss: 0.3733 - accuracy: 0.8435\n",
            "Epoch 76/100\n",
            "63/63 [==============================] - 0s 2ms/step - loss: 0.3728 - accuracy: 0.8460\n",
            "Epoch 77/100\n",
            "63/63 [==============================] - 0s 2ms/step - loss: 0.3719 - accuracy: 0.8420\n",
            "Epoch 78/100\n",
            "63/63 [==============================] - 0s 2ms/step - loss: 0.3708 - accuracy: 0.8450\n",
            "Epoch 79/100\n",
            "63/63 [==============================] - 0s 2ms/step - loss: 0.3702 - accuracy: 0.8450\n",
            "Epoch 80/100\n",
            "63/63 [==============================] - 0s 2ms/step - loss: 0.3691 - accuracy: 0.8445\n",
            "Epoch 81/100\n",
            "63/63 [==============================] - 0s 2ms/step - loss: 0.3677 - accuracy: 0.8460\n",
            "Epoch 82/100\n",
            "63/63 [==============================] - 0s 2ms/step - loss: 0.3667 - accuracy: 0.8495\n",
            "Epoch 83/100\n",
            "63/63 [==============================] - 0s 2ms/step - loss: 0.3664 - accuracy: 0.8470\n",
            "Epoch 84/100\n",
            "63/63 [==============================] - 0s 2ms/step - loss: 0.3647 - accuracy: 0.8495\n",
            "Epoch 85/100\n",
            "63/63 [==============================] - 0s 2ms/step - loss: 0.3642 - accuracy: 0.8495\n",
            "Epoch 86/100\n",
            "63/63 [==============================] - 0s 2ms/step - loss: 0.3633 - accuracy: 0.8505\n",
            "Epoch 87/100\n",
            "63/63 [==============================] - 0s 2ms/step - loss: 0.3626 - accuracy: 0.8515\n",
            "Epoch 88/100\n",
            "63/63 [==============================] - 0s 2ms/step - loss: 0.3611 - accuracy: 0.8510\n",
            "Epoch 89/100\n",
            "63/63 [==============================] - 0s 2ms/step - loss: 0.3605 - accuracy: 0.8505\n",
            "Epoch 90/100\n",
            "63/63 [==============================] - 0s 2ms/step - loss: 0.3598 - accuracy: 0.8535\n",
            "Epoch 91/100\n",
            "63/63 [==============================] - 0s 2ms/step - loss: 0.3585 - accuracy: 0.8540\n",
            "Epoch 92/100\n",
            "63/63 [==============================] - 0s 2ms/step - loss: 0.3578 - accuracy: 0.8535\n",
            "Epoch 93/100\n",
            "63/63 [==============================] - 0s 2ms/step - loss: 0.3567 - accuracy: 0.8550\n",
            "Epoch 94/100\n",
            "63/63 [==============================] - 0s 2ms/step - loss: 0.3563 - accuracy: 0.8570\n",
            "Epoch 95/100\n",
            "63/63 [==============================] - 0s 2ms/step - loss: 0.3555 - accuracy: 0.8570\n",
            "Epoch 96/100\n",
            "63/63 [==============================] - 0s 2ms/step - loss: 0.3547 - accuracy: 0.8575\n",
            "Epoch 97/100\n",
            "63/63 [==============================] - 0s 2ms/step - loss: 0.3537 - accuracy: 0.8580\n",
            "Epoch 98/100\n",
            "63/63 [==============================] - 0s 2ms/step - loss: 0.3533 - accuracy: 0.8570\n",
            "Epoch 99/100\n",
            "63/63 [==============================] - 0s 2ms/step - loss: 0.3526 - accuracy: 0.8550\n",
            "Epoch 100/100\n",
            "63/63 [==============================] - 0s 2ms/step - loss: 0.3519 - accuracy: 0.8545\n"
          ]
        },
        {
          "output_type": "execute_result",
          "data": {
            "text/plain": [
              "<keras.callbacks.History at 0x7fd4499724c0>"
            ]
          },
          "metadata": {},
          "execution_count": 15
        }
      ]
    },
    {
      "cell_type": "markdown",
      "metadata": {
        "id": "tJj5k2MxZga3"
      },
      "source": [
        "## Part 4 - Making the predictions and evaluating the model"
      ]
    },
    {
      "cell_type": "markdown",
      "metadata": {
        "id": "84QFoqGYeXHL"
      },
      "source": [
        "### Predicting the result of a single observation"
      ]
    },
    {
      "cell_type": "markdown",
      "metadata": {
        "id": "CGRo3eacgDdC"
      },
      "source": [
        "**Homework**\n",
        "\n",
        "Use our ANN model to predict if the customer with the following informations will leave the bank: \n",
        "\n",
        "Geography: France\n",
        "\n",
        "Credit Score: 600\n",
        "\n",
        "Gender: Male\n",
        "\n",
        "Age: 40 years old\n",
        "\n",
        "Tenure: 3 years\n",
        "\n",
        "Balance: \\$ 60000\n",
        "\n",
        "Number of Products: 2\n",
        "\n",
        "Does this customer have a credit card ? Yes\n",
        "\n",
        "Is this customer an Active Member: Yes\n",
        "\n",
        "Estimated Salary: \\$ 50000\n",
        "\n",
        "So, should we say goodbye to that customer ?"
      ]
    },
    {
      "cell_type": "markdown",
      "metadata": {
        "id": "ZhU1LTgPg-kH"
      },
      "source": [
        "**Solution**"
      ]
    },
    {
      "cell_type": "markdown",
      "metadata": {
        "id": "wGjx94g2n7OV"
      },
      "source": [
        "Therefore, our ANN model predicts that this customer stays in the bank!\n",
        "\n",
        "**Important note 1:** Notice that the values of the features were all input in a double pair of square brackets. That's because the \"predict\" method always expects a 2D array as the format of its inputs. And putting our values into a double pair of square brackets makes the input exactly a 2D array.\n",
        "\n",
        "**Important note 2:** Notice also that the \"France\" country was not input as a string in the last column but as \"1, 0, 0\" in the first three columns. That's because of course the predict method expects the one-hot-encoded values of the state, and as we see in the first row of the matrix of features X, \"France\" was encoded as \"1, 0, 0\". And be careful to include these values in the first three columns, because the dummy variables are always created in the first columns."
      ]
    },
    {
      "cell_type": "markdown",
      "metadata": {
        "id": "u7yx47jPZt11"
      },
      "source": [
        "### Predicting the Test set results"
      ]
    },
    {
      "cell_type": "code",
      "source": [
        "print(ann.predict(sc.transform([[1, 0, 0, 600, 1, 40, 3, 60000, 2, 1, 1, 50000]])) > 0.5)"
      ],
      "metadata": {
        "colab": {
          "base_uri": "https://localhost:8080/"
        },
        "id": "LWvWdqkFQBQE",
        "outputId": "6f515d96-cb6a-4371-8a9b-c1db974d1028"
      },
      "execution_count": 16,
      "outputs": [
        {
          "output_type": "stream",
          "name": "stdout",
          "text": [
            "1/1 [==============================] - 0s 84ms/step\n",
            "[[False]]\n"
          ]
        }
      ]
    },
    {
      "cell_type": "code",
      "source": [
        "y_pred = ann.predict(X_test)\n",
        "y_pred = (y_pred > 0.5)\n",
        "print(np.concatenate((y_pred.reshape(len(y_pred), 1), y_test.reshape(len(y_test), 1)), 1))"
      ],
      "metadata": {
        "colab": {
          "base_uri": "https://localhost:8080/"
        },
        "id": "lwv7ZXhNROHQ",
        "outputId": "7fbac62e-d703-4008-baf1-46fecf1944f6"
      },
      "execution_count": 19,
      "outputs": [
        {
          "output_type": "stream",
          "name": "stdout",
          "text": [
            "250/250 [==============================] - 0s 2ms/step\n",
            "[[0 0]\n",
            " [0 1]\n",
            " [0 0]\n",
            " ...\n",
            " [0 0]\n",
            " [0 0]\n",
            " [0 0]]\n"
          ]
        }
      ]
    },
    {
      "cell_type": "markdown",
      "metadata": {
        "id": "o0oyfLWoaEGw"
      },
      "source": [
        "### Making the Confusion Matrix"
      ]
    },
    {
      "cell_type": "code",
      "source": [
        "from sklearn.metrics import confusion_matrix, accuracy_score\n",
        "cm = confusion_matrix(y_test, y_pred)\n",
        "print(cm)\n",
        "accuracy_score(y_test, y_pred)"
      ],
      "metadata": {
        "colab": {
          "base_uri": "https://localhost:8080/"
        },
        "id": "nDOx5x5PQngU",
        "outputId": "b7fc69ce-8a5a-4ed2-852f-8052f165f6ad"
      },
      "execution_count": 20,
      "outputs": [
        {
          "output_type": "stream",
          "name": "stdout",
          "text": [
            "[[6041  323]\n",
            " [ 965  671]]\n"
          ]
        },
        {
          "output_type": "execute_result",
          "data": {
            "text/plain": [
              "0.839"
            ]
          },
          "metadata": {},
          "execution_count": 20
        }
      ]
    }
  ]
}